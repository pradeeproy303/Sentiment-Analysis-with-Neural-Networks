{
  "metadata": {
    "kernelspec": {
      "name": "python",
      "display_name": "Python (Pyodide)",
      "language": "python"
    },
    "language_info": {
      "codemirror_mode": {
        "name": "python",
        "version": 3
      },
      "file_extension": ".py",
      "mimetype": "text/x-python",
      "name": "python",
      "nbconvert_exporter": "python",
      "pygments_lexer": "ipython3",
      "version": "3.8"
    }
  },
  "nbformat_minor": 4,
  "nbformat": 4,
  "cells": [
    {
      "cell_type": "markdown",
      "source": "# Project 6: Analyzing Stock Sentiment from Twits\n### Load Packages",
      "metadata": {}
    },
    {
      "cell_type": "code",
      "source": "import json\nimport nltk\nimport os\nimport random\nimport re\nimport torch\nfrom tqdm import tqdm\nimport numpy as np\n\nfrom torch import nn, optim\nimport torch.nn.functional as F",
      "metadata": {},
      "execution_count": 1,
      "outputs": []
    },
    {
      "cell_type": "markdown",
      "source": "## Introduction\nWhen deciding the value of a company, it's important to follow the news. For example, a product recall or natural disaster in a company's product chain. We want to be able to turn this information into a signal. Currently, the best tool for the job is a Neural Network. \n\nFor this project, we'll use posts from the social media site [StockTwits](https://en.wikipedia.org/wiki/StockTwits). The community on StockTwits is full of investors, traders, and entrepreneurs. Each message posted is called a Twit. This is similar to Twitter's version of a post, called a Tweet. We'll build a model around these twits that generate a sentiment score.\n\nWe've collected a bunch of twits, then hand labeled the sentiment of each. To capture the degree of sentiment, we'll use a five-point scale: very negative, negative, neutral, positive, very positive. Each twit is labeled -2 to 2 in steps of 1, from very negative to very positive respectively. We'll build a sentiment analysis model that will learn to assign sentiment to twits on its own, using this labeled data.\n\nThe first thing we should to do, is load the data.\n\n## Import Twits \n### Load Twits Data \nThis JSON file contains a list of objects for each twit in the `'data'` field:\n\n```\n{'data':\n  {'message_body': 'Neutral twit body text here',\n   'sentiment': 0},\n  {'message_body': 'Happy twit body text here',\n   'sentiment': 1},\n   ...\n}\n```\n\nThe fields represent the following:\n\n* `'message_body'`: The text of the twit.\n* `'sentiment'`: Sentiment score for the twit, ranges from -2 to 2 in steps of 1, with 0 being neutral.\n\n\nTo see what the data look like by printing the first 10 twits from the list. ",
      "metadata": {}
    },
    {
      "cell_type": "code",
      "source": "with open(os.path.join('..', '..', 'data', 'project_6_stocktwits', 'twits.json'), 'r') as f:\n    twits = json.load(f)\n\nprint(twits['data'][:10])",
      "metadata": {},
      "execution_count": 2,
      "outputs": [
        {
          "name": "stdout",
          "output_type": "stream",
          "text": "[{'message_body': '$FITB great buy at 26.00...ill wait', 'sentiment': 2, 'timestamp': '2018-07-01T00:00:09Z'}, {'message_body': '@StockTwits $MSFT', 'sentiment': 1, 'timestamp': '2018-07-01T00:00:42Z'}, {'message_body': '#STAAnalystAlert for $TDG : Jefferies Maintains with a rating of Hold setting target price at USD 350.00. Our own verdict is Buy  http://www.stocktargetadvisor.com/toprating', 'sentiment': 2, 'timestamp': '2018-07-01T00:01:24Z'}, {'message_body': '$AMD I heard there’s a guy who knows someone who thinks somebody knows something - on StockTwits.', 'sentiment': 1, 'timestamp': '2018-07-01T00:01:47Z'}, {'message_body': '$AMD reveal yourself!', 'sentiment': 0, 'timestamp': '2018-07-01T00:02:13Z'}, {'message_body': '$AAPL Why the drop? I warren Buffet taking out his position?', 'sentiment': 1, 'timestamp': '2018-07-01T00:03:10Z'}, {'message_body': '$BA bears have 1 reason on 06-29 to pay more attention https://dividendbot.com?s=BA', 'sentiment': -2, 'timestamp': '2018-07-01T00:04:09Z'}, {'message_body': '$BAC ok good we&#39;re not dropping in price over the weekend, lol', 'sentiment': 1, 'timestamp': '2018-07-01T00:04:17Z'}, {'message_body': '$AMAT - Daily Chart, we need to get back to above 50.', 'sentiment': 2, 'timestamp': '2018-07-01T00:08:01Z'}, {'message_body': '$GME 3% drop per week after spike... if no news in 3 months, back to 12s... if BO, then bingo... what is the odds?', 'sentiment': -2, 'timestamp': '2018-07-01T00:09:03Z'}]\n"
        }
      ]
    },
    {
      "cell_type": "markdown",
      "source": "### Length of Data\nNow let's look at the number of twits in dataset. Print the number of twits below.",
      "metadata": {}
    },
    {
      "cell_type": "code",
      "source": "\"\"\"print out the number of twits\"\"\"\n\n# TODO Implement \n\nprint(\"No. of Twits :\",len(twits['data']))",
      "metadata": {},
      "execution_count": 3,
      "outputs": [
        {
          "name": "stdout",
          "output_type": "stream",
          "text": "No. of Twits : 1548010\n"
        }
      ]
    },
    {
      "cell_type": "markdown",
      "source": "### Split Message Body and Sentiment Score",
      "metadata": {}
    },
    {
      "cell_type": "code",
      "source": "messages = [twit['message_body'] for twit in twits['data']]\n# Since the sentiment scores are discrete, we'll scale the sentiments to 0 to 4 for use in our network\nsentiments = [twit['sentiment'] + 2 for twit in twits['data']]",
      "metadata": {},
      "execution_count": 4,
      "outputs": []
    },
    {
      "cell_type": "markdown",
      "source": "## Preprocessing the Data\nWith our data in hand we need to preprocess our text. These twits are collected by filtering on ticker symbols where these are denoted with a leader $ symbol in the twit itself. For example,\n\n`{'message_body': 'RT @google Our annual look at the year in Google blogging (and beyond) http://t.co/sptHOAh8 $GOOG',\n 'sentiment': 0}`\n\nThe ticker symbols don't provide information on the sentiment, and they are in every twit, so we should remove them. This twit also has the `@google` username, again not providing sentiment information, so we should also remove it. We also see a URL `http://t.co/sptHOAh8`. Let's remove these too.\n\nThe easiest way to remove specific words or phrases is with regex using the `re` module. We can sub out specific patterns with a space:\n\n```python\nre.sub(pattern, ' ', text)\n```\nThis will substitute a space with anywhere the pattern matches in the text. Later when we tokenize the text, we'll split appropriately on those spaces.",
      "metadata": {}
    },
    {
      "cell_type": "markdown",
      "source": "### Pre-Processing",
      "metadata": {}
    },
    {
      "cell_type": "code",
      "source": "nltk.download('wordnet')\n\n\ndef preprocess(message):\n    \"\"\"\n    This function takes a string as input, then performs these operations: \n        - lowercase\n        - remove URLs\n        - remove ticker symbols \n        - removes punctuation\n        - tokenize by splitting the string on whitespace \n        - removes any single character tokens\n    \n    Parameters\n    ----------\n        message : The text message to be preprocessed.\n        \n    Returns\n    -------\n        tokens: The preprocessed text into tokens.\n    \"\"\" \n    #TODO: Implement \n    \n    # Lowercase the twit message\n    text = message.lower()\n    \n    # Replace URLs with a space in the message\n    text = re.sub(r'https?:\\/\\/.*[\\r\\n]*', ' ', text)\n    \n    # Replace ticker symbols with a space. The ticker symbols are any stock symbol that starts with $.\n    text = re.sub(r'[$][A-Za-z][\\S]*', ' ', text)\n    \n    # Replace StockTwits usernames with a space. The usernames are any word that starts with @.\n    text = re.sub(r'[$][A-Za-z][\\S]*', ' ', text)\n\n    # Replace everything not a letter with a space\n    text = re.sub(r'[\\W_]+', ' ', text)\n    \n    # Tokenize by splitting the string on whitespace into a list of words\n    tokens = text.split()\n\n    # Lemmatize words using the WordNetLemmatizer. You can ignore any word that is not longer than one character.\n    wnl = nltk.stem.WordNetLemmatizer()\n    tokens = [wnl.lemmatize(token) for token in tokens if len(token) > 1]\n\n    \n    assert type(tokens) == list, 'Tokens should be list'\n    return tokens",
      "metadata": {},
      "execution_count": 5,
      "outputs": [
        {
          "name": "stdout",
          "output_type": "stream",
          "text": "[nltk_data] Downloading package wordnet to /root/nltk_data...\n\n[nltk_data]   Package wordnet is already up-to-date!\n"
        }
      ]
    },
    {
      "cell_type": "markdown",
      "source": ">Note: We must ensure that after preprocessing the text should NOT include:\n- Numbers\n- URLs\n- Single character tokens\n- Ticker symbols (these should be removed even if they don't appear at the beginning)",
      "metadata": {}
    },
    {
      "cell_type": "markdown",
      "source": "### Preprocess All the Twits \nNow we can preprocess each of the twits in our dataset. Apply the function `preprocess` to all the twit messages.",
      "metadata": {}
    },
    {
      "cell_type": "code",
      "source": "tokenized = [preprocess(twit) for twit in messages]",
      "metadata": {},
      "execution_count": 6,
      "outputs": []
    },
    {
      "cell_type": "markdown",
      "source": "### Bag of Words\nNow with all of our messages tokenized, we want to create a vocabulary and count up how often each word appears in our entire corpus. Use the [`Counter`](https://docs.python.org/3.1/library/collections.html#collections.Counter) function to count up all the tokens.",
      "metadata": {}
    },
    {
      "cell_type": "code",
      "source": "from collections import Counter\n\n\n\"\"\"\nCreate a vocabulary by using Bag of words\n\"\"\"\n\ntokenized_text = ' '.join([' '.join(tokens) for tokens in tokenized])\nword_counts = Counter(tokenized_text.split())\nbow = dict(word_counts)",
      "metadata": {},
      "execution_count": 7,
      "outputs": []
    },
    {
      "cell_type": "markdown",
      "source": "### Frequency of Words Appearing in Message\nWith our vocabulary, now we'll remove some of the most common words such as 'the', 'and', 'it', etc. These words don't contribute to identifying sentiment and are really common, resulting in a lot of noise in our input. If we can filter these out, then our network should have an easier time learning.\n\nWe also want to remove really rare words that show up in a only a few twits. Here we'll want to divide the count of each word by the **number of messages** calculated in the code block above (i.e. `len(messages))`. Then remove words that only appear in some small fraction of the messages.\n\n>Note: There is not an exact number for low and high-frequency cut-offs, however there is a correct optimal range.\nWe should ideally set up low-frequency cut-off from 0.0000002 to 0.000007 (inclusive) and high-frequency from 5 to 20 (inclusive). If the number is too big, we lose lots of important words that we can use in our data.",
      "metadata": {}
    },
    {
      "cell_type": "code",
      "source": "\"\"\"\nSet the following variables:\n    freqs\n    low_cutoff\n    high_cutoff\n    K_most_common\n\"\"\"\n\n# TODO Implement \n\n# Dictionart that contains the Frequency of words appearing in messages.\n# The key is the token and the value is the frequency of that word in the corpus.\nfreqs = {word: count/len(bow) for word, count in bow.items()}\n\n# Float that is the frequency cutoff. Drop words with a frequency that is lower or equal to this number.\nlow_cutoff = 0.000001\n\n# Integer that is the cut off for most common words. Drop words that are the `high_cutoff` most common words.\nhigh_cutoff = 20\n\n# The k most common words in the corpus. Use `high_cutoff` as the k.\nbow = Counter(bow)\nK_most_common = bow.most_common(high_cutoff)\n\n\nfiltered_words = [word for word in freqs if (freqs[word] > low_cutoff and word not in K_most_common)]\nprint(K_most_common)\nlen(filtered_words) ",
      "metadata": {},
      "execution_count": 8,
      "outputs": [
        {
          "name": "stdout",
          "output_type": "stream",
          "text": "[('the', 398003), ('to', 378476), ('is', 283839), ('for', 272807), ('on', 241366), ('of', 210884), ('and', 208152), ('in', 204338), ('this', 203010), ('it', 193116), ('39', 190619), ('at', 138105), ('will', 128003), ('up', 120945), ('are', 101205), ('you', 94063), ('that', 89236), ('be', 89018), ('short', 86547), ('10', 84801)]\n"
        },
        {
          "execution_count": 8,
          "output_type": "execute_result",
          "data": {
            "text/plain": [
              "135159"
            ]
          },
          "metadata": {}
        }
      ]
    },
    {
      "cell_type": "markdown",
      "source": "### Updating Vocabulary by Removing Filtered Words\nLet's creat three variables that will help with our vocabulary.",
      "metadata": {}
    },
    {
      "cell_type": "code",
      "source": "\"\"\"\nSet the following variables:\n    vocab\n    id2vocab\n    filtered\n\"\"\"\n\n# A dictionary for the `filtered_words`. The key is the word and value is an id that represents the word. \nvocab = {word: index for index, word in tqdm(enumerate(filtered_words, 1))}\n\n# Reverse of the `vocab` dictionary. The key is word id and value is the word. \nid2vocab = {x: word for word, x in tqdm(vocab.items())}\n\n# tokenized with the words not in `filtered_words` removed.\nfiltered = [[word for word in message if word in vocab] for message in tqdm(tokenized)]\n\nassert set(vocab.keys()) == set(id2vocab.values()), 'Check vocab and id2vocab dictionaries'",
      "metadata": {},
      "execution_count": 9,
      "outputs": [
        {
          "name": "stderr",
          "output_type": "stream",
          "text": "135159it [00:00, 964061.31it/s]\n\n100%|██████████| 135159/135159 [00:00<00:00, 1038118.70it/s]\n\n100%|██████████| 1548010/1548010 [00:08<00:00, 176736.85it/s]\n"
        }
      ]
    },
    {
      "cell_type": "markdown",
      "source": "### Balancing the classes\nLet's do a few last pre-processing steps. If we look at how our twits are labeled, we'll find that 50% of them are neutral. This means that our network will be 50% accurate just by guessing 0 every single time. To help our network learn appropriately, we'll want to balance our classes.\nThat is, make sure each of our different sentiment scores show up roughly as frequently in the data.\n\nWhat we can do here is go through each of our examples and randomly drop twits with neutral sentiment. What should be the probability we drop these twits if we want to get around 20% neutral twits starting at 50% neutral? We should also take this opportunity to remove messages with length 0.",
      "metadata": {}
    },
    {
      "cell_type": "code",
      "source": "balanced = {'messages': [], 'sentiments':[]}\n\nn_neutral = sum(1 for each in sentiments if each == 2)\nN_examples = len(sentiments)\nkeep_prob = (N_examples - n_neutral)/4/n_neutral\n\nfor idx, sentiment in enumerate(sentiments):\n    message = filtered[idx]\n    if len(message) == 0:\n        # skip this message because it has length zero\n        continue\n    elif sentiment != 2 or random.random() < keep_prob:\n        balanced['messages'].append(message)\n        balanced['sentiments'].append(sentiment) ",
      "metadata": {},
      "execution_count": 10,
      "outputs": []
    },
    {
      "cell_type": "markdown",
      "source": "If we did it correctly, we should see the following result ",
      "metadata": {}
    },
    {
      "cell_type": "code",
      "source": "n_neutral = sum(1 for each in balanced['sentiments'] if each == 2)\nN_examples = len(balanced['sentiments'])\nn_neutral/N_examples",
      "metadata": {},
      "execution_count": 11,
      "outputs": [
        {
          "execution_count": 11,
          "output_type": "execute_result",
          "data": {
            "text/plain": [
              "0.1950613278330446"
            ]
          },
          "metadata": {}
        }
      ]
    },
    {
      "cell_type": "markdown",
      "source": "Finally let's convert our tokens into integer ids which we can pass to the network.",
      "metadata": {}
    },
    {
      "cell_type": "code",
      "source": "token_ids = [[vocab[word] for word in message] for message in balanced['messages']]\nsentiments = balanced['sentiments']",
      "metadata": {},
      "execution_count": 12,
      "outputs": []
    },
    {
      "cell_type": "markdown",
      "source": "## Neural Network\nNow we have our vocabulary which means we can transform our tokens into ids, which are then passed to our network. So, let's define the network now!\n\nHere is a nice diagram showing the network we'd like to build: \n\n#### Embed -> RNN -> Dense -> Softmax\n### Implement the text classifier\nHere we named it \"TextClassifer\" - consists of three main parts: 1) init function `__init__` 2) forward pass `forward`  3) hidden state `init_hidden`. \n\nThis network is pretty similar to the network we built expect in the  `forward` pass, we use softmax instead of sigmoid. The reason we are not using sigmoid is that the output of NN is not a binary. In our network, sentiment scores have 5 possible outcomes. We are looking for an outcome with the highest probability thus softmax is a better choice.",
      "metadata": {}
    },
    {
      "cell_type": "code",
      "source": "class TextClassifier(nn.Module):\n    def __init__(self, vocab_size, embed_size, lstm_size, output_size, lstm_layers=1, dropout=0.1):\n        \"\"\"\n        Initialize the model by setting up the layers.\n        \n        Parameters\n        ----------\n            vocab_size : The vocabulary size.\n            embed_size : The embedding layer size.\n            lstm_size : The LSTM layer size.\n            output_size : The output size.\n            lstm_layers : The number of LSTM layers.\n            dropout : The dropout probability.\n        \"\"\"\n        \n        super().__init__()\n        self.vocab_size = vocab_size\n        self.embed_size = embed_size\n        self.lstm_size = lstm_size\n        self.output_size = output_size\n        self.lstm_layers = lstm_layers\n        self.dropout = dropout\n        \n        # TODO Implement\n\n        # embedding and LSTM layers\n        self.embedding = nn.Embedding(vocab_size, embed_size)\n        self.lstm = nn.LSTM(embed_size, lstm_size, lstm_layers, dropout=dropout, batch_first=False)\n        \n        # dropout layer\n        self.dropout = nn.Dropout(dropout)\n        \n        # linear and Softmax layers\n        self.fc = nn.Linear(lstm_size, output_size)\n        self.lsof = nn.LogSoftmax()\n\n\n    def init_hidden(self, batch_size):\n        \"\"\" \n        Initializes hidden state\n        \n        Parameters\n        ----------\n            batch_size : The size of batches.\n        \n        Returns\n        -------\n            hidden_state\n            \n        \"\"\"\n        \n        # TODO Implement \n        \n        # Create two new tensors with sizes n_layers x batch_size x hidden_dim,\n        # initialized to zero, for hidden state and cell state of LSTM\n        \n        weight = next(self.parameters()).data\n        \n        hidden_state = (weight.new(self.lstm_layers, batch_size, self.lstm_size).zero_(),\n                      weight.new(self.lstm_layers, batch_size, self.lstm_size).zero_())\n        \n        return hidden_state\n\n\n    def forward(self, nn_input, hidden_state):\n        \"\"\"\n        Perform a forward pass of our model on nn_input.\n        \n        Parameters\n        ----------\n            nn_input : The batch of input to the NN.\n            hidden_state : The LSTM hidden state.\n\n        Returns\n        -------\n            logps: log softmax output\n            hidden_state: The new hidden state.\n\n        \"\"\"\n        \n        # TODO Implement \n        \n        nn_input = nn_input.long()\n\n        # embeddings and lstm_out\n        embeds = self.embedding(nn_input)\n        lstm_out, hidden_state = self.lstm(embeds, hidden_state)\n\n        # stack up lstm outputs\n        lstm_out = lstm_out[-1,:,:]\n\n        # dropout and fully-connected layer\n        out = self.dropout(lstm_out)\n        out = self.fc(out)\n\n        # sigmoid function\n        sig_out = self.lsof(out)\n\n        # reshape to be batch_size first\n        batch_size = nn_input.size(1)\n\n        # return last sigmoid output and hidden state\n        return sig_out, hidden_state",
      "metadata": {},
      "execution_count": 13,
      "outputs": []
    },
    {
      "cell_type": "markdown",
      "source": "### View Model",
      "metadata": {}
    },
    {
      "cell_type": "code",
      "source": "model = TextClassifier(len(vocab), 10, 6, 5, dropout=0.1, lstm_layers=2)\nmodel.embedding.weight.data.uniform_(-1, 1)\ninput = torch.randint(0, 1000, (5, 4), dtype=torch.int64)\nhidden = model.init_hidden(4)\n\nlogps, _ = model.forward(input, hidden)\nprint(logps)",
      "metadata": {},
      "execution_count": 14,
      "outputs": [
        {
          "name": "stdout",
          "output_type": "stream",
          "text": "tensor([[-1.6051, -1.1877, -1.8580, -1.7021, -1.8583],\n\n        [-1.6043, -1.2013, -1.8576, -1.6995, -1.8368],\n\n        [-1.6076, -1.1938, -1.8601, -1.6997, -1.8442],\n\n        [-1.6030, -1.1902, -1.8701, -1.7021, -1.8443]])\n"
        },
        {
          "name": "stderr",
          "output_type": "stream",
          "text": "/opt/conda/lib/python3.6/site-packages/ipykernel_launcher.py:97: UserWarning: Implicit dimension choice for log_softmax has been deprecated. Change the call to include dim=X as an argument.\n"
        }
      ]
    },
    {
      "cell_type": "markdown",
      "source": "## Training\n### DataLoaders and Batching\nNow we should build a generator that we can use to loop through our data. It'll be more efficient if we can pass our sequences in as batches. Our input tensors should look like `(sequence_length, batch_size)`. So if our sequences are 40 tokens long and we pass in 25 sequences, then we'd have an input size of `(40, 25)`.\n\nIf we set our sequence length to 40, what do we do with messages that are more or less than 40 tokens? For messages with fewer than 40 tokens, we will pad the empty spots with zeros. We should be sure to **left** pad so that the RNN starts from nothing before going through the data. If the message has 20 tokens, then the first 20 spots of our 40 long sequence will be 0. If a message has more than 40 tokens, we'll just keep the first 40 tokens.",
      "metadata": {}
    },
    {
      "cell_type": "code",
      "source": "def dataloader(messages, labels, sequence_length=30, batch_size=32, shuffle=False):\n    \"\"\" \n    Build a dataloader.\n    \"\"\"\n    if shuffle:\n        indices = list(range(len(messages)))\n        random.shuffle(indices)\n        messages = [messages[idx] for idx in indices]\n        labels = [labels[idx] for idx in indices]\n\n    total_sequences = len(messages)\n\n    for ii in range(0, total_sequences, batch_size):\n        batch_messages = messages[ii: ii+batch_size]\n        \n        # First initialize a tensor of all zeros\n        batch = torch.zeros((sequence_length, len(batch_messages)), dtype=torch.int64)\n        for batch_num, tokens in enumerate(batch_messages):\n            token_tensor = torch.tensor(tokens)\n            # Left pad!\n            start_idx = max(sequence_length - len(token_tensor), 0)\n            batch[start_idx:, batch_num] = token_tensor[:sequence_length]\n        \n        label_tensor = torch.tensor(labels[ii: ii+len(batch_messages)])\n        \n        yield batch, label_tensor",
      "metadata": {},
      "execution_count": 15,
      "outputs": []
    },
    {
      "cell_type": "markdown",
      "source": "### Training and  Validation\nWith our data in nice shape, we'll split it into training and validation sets.",
      "metadata": {}
    },
    {
      "cell_type": "code",
      "source": "\"\"\"\nSplit data into training and validation datasets. Use an appropriate split size.\nThe features are the `token_ids` and the labels are the `sentiments`.\n\"\"\"   \n\n# TODO Implement \n\nfrom sklearn.model_selection import train_test_split\n\ntrain_features,valid_features,train_labels,valid_labels  =train_test_split(token_ids, sentiments, test_size=0.30,stratify=sentiments, random_state=42)",
      "metadata": {},
      "execution_count": 16,
      "outputs": []
    },
    {
      "cell_type": "code",
      "source": "text_batch, labels = next(iter(dataloader(train_features, train_labels, sequence_length=20, batch_size=64)))\nmodel = TextClassifier(len(vocab)+1, 200, 128, 5, dropout=0.)\nhidden = model.init_hidden(64)\nlogps, hidden = model.forward(text_batch, hidden)",
      "metadata": {},
      "execution_count": 17,
      "outputs": [
        {
          "name": "stderr",
          "output_type": "stream",
          "text": "/opt/conda/lib/python3.6/site-packages/ipykernel_launcher.py:97: UserWarning: Implicit dimension choice for log_softmax has been deprecated. Change the call to include dim=X as an argument.\n"
        }
      ]
    },
    {
      "cell_type": "markdown",
      "source": "### Training\nIt's time to train the neural network!",
      "metadata": {}
    },
    {
      "cell_type": "code",
      "source": "device = torch.device(\"cuda\" if torch.cuda.is_available() else \"cpu\")\n\nmodel = TextClassifier(len(vocab)+1, 1024, 512, 5, lstm_layers=2, dropout=0.2)\nmodel.embedding.weight.data.uniform_(-1, 1)\nmodel.to(device)",
      "metadata": {},
      "execution_count": 18,
      "outputs": [
        {
          "execution_count": 18,
          "output_type": "execute_result",
          "data": {
            "text/plain": [
              "TextClassifier(\n",
              "  (embedding): Embedding(135160, 1024)\n",
              "  (lstm): LSTM(1024, 512, num_layers=2, dropout=0.2)\n",
              "  (dropout): Dropout(p=0.2)\n",
              "  (fc): Linear(in_features=512, out_features=5, bias=True)\n",
              "  (lsof): LogSoftmax()\n",
              ")"
            ]
          },
          "metadata": {}
        }
      ]
    },
    {
      "cell_type": "code",
      "source": "\"\"\"\nTrain your model with dropout. Make sure to clip your gradients.\nPrint the training loss, validation loss, and validation accuracy for every 100 steps.\n\"\"\"\n\nepochs = 3\nbatch_size = 1000\nlearning_rate = 0.001\nclip=5\nprint_every = 100\ncriterion = nn.NLLLoss()\noptimizer = optim.Adam(model.parameters(), lr=learning_rate)\nmodel.train()\n\nfor epoch in range(epochs):\n    print('Starting epoch {}'.format(epoch + 1))\n    \n    steps = 0\n    for text_batch, labels in dataloader(\n            train_features, train_labels, batch_size=batch_size, sequence_length=20, shuffle=True):\n        steps += 1\n        hidden = model.init_hidden(labels.shape[0])\n        \n        # Set Device\n        text_batch, labels = text_batch.to(device), labels.to(device)\n        for each in hidden:\n            each.to(device)\n        \n        # TODO Implement: Train Model\n        model.zero_grad()\n        output, hidden = model(text_batch, hidden)\n        loss = criterion(output.squeeze(), labels)\n        loss.backward()\n        nn.utils.clip_grad_norm_(model.parameters(), clip)\n        optimizer.step()\n        \n        if steps % print_every == 0:\n            model.eval()\n            val_losses = []\n            for inputs, labels in dataloader(valid_features, valid_labels, batch_size=batch_size):\n\n                # Creating new variables for the hidden state, otherwise\n                # we'd backprop through the entire training history\n                #val_h = tuple([each.data for each in val_h])\n\n                inputs, labels = inputs.to(device), labels.to(device)\n                \n                val_h = model.init_hidden(labels.shape[0])\n                for each in val_h:\n                    each.to(device)                \n\n                output, val_h = model(inputs, val_h)\n                val_loss = criterion(output.squeeze(), labels)\n\n                val_losses.append(val_loss.item())\n            # TODO Implement: Print metrics\n            \n            model.train()\n            print(\"Epoch: {}/{}\".format(epoch+1, epochs),\n                  \"Val Loss: {:.3f}\".format(np.mean(val_losses)),\n                  \"Loss: {:.3f}\".format(loss.item()))",
      "metadata": {},
      "execution_count": 19,
      "outputs": [
        {
          "name": "stdout",
          "output_type": "stream",
          "text": "Starting epoch 1\n"
        },
        {
          "name": "stderr",
          "output_type": "stream",
          "text": "/opt/conda/lib/python3.6/site-packages/ipykernel_launcher.py:97: UserWarning: Implicit dimension choice for log_softmax has been deprecated. Change the call to include dim=X as an argument.\n"
        },
        {
          "name": "stdout",
          "output_type": "stream",
          "text": "Epoch: 1/3 Val Loss: 0.932 Loss: 1.004\n\nEpoch: 1/3 Val Loss: 0.821 Loss: 0.835\n\nEpoch: 1/3 Val Loss: 0.767 Loss: 0.795\n\nEpoch: 1/3 Val Loss: 0.720 Loss: 0.718\n\nEpoch: 1/3 Val Loss: 0.699 Loss: 0.722\n\nEpoch: 1/3 Val Loss: 0.678 Loss: 0.688\n\nEpoch: 1/3 Val Loss: 0.662 Loss: 0.697\n\nStarting epoch 2\n\nEpoch: 2/3 Val Loss: 0.655 Loss: 0.627\n\nEpoch: 2/3 Val Loss: 0.652 Loss: 0.629\n\nEpoch: 2/3 Val Loss: 0.647 Loss: 0.670\n\nEpoch: 2/3 Val Loss: 0.642 Loss: 0.644\n\nEpoch: 2/3 Val Loss: 0.636 Loss: 0.642\n\nEpoch: 2/3 Val Loss: 0.635 Loss: 0.653\n\nEpoch: 2/3 Val Loss: 0.629 Loss: 0.619\n\nStarting epoch 3\n\nEpoch: 3/3 Val Loss: 0.647 Loss: 0.581\n\nEpoch: 3/3 Val Loss: 0.645 Loss: 0.584\n\nEpoch: 3/3 Val Loss: 0.644 Loss: 0.592\n\nEpoch: 3/3 Val Loss: 0.643 Loss: 0.538\n\nEpoch: 3/3 Val Loss: 0.641 Loss: 0.571\n\nEpoch: 3/3 Val Loss: 0.635 Loss: 0.562\n\nEpoch: 3/3 Val Loss: 0.636 Loss: 0.533\n"
        }
      ]
    },
    {
      "cell_type": "markdown",
      "source": "## Making Predictions\n### Prediction \nOkay, now that we have a trained model, try it on some new twits and see if it works appropriately. Remember that for any new text, we'll need to preprocess it first before passing it to the network. Implement the `predict` function to generate the prediction vector from a message.",
      "metadata": {}
    },
    {
      "cell_type": "code",
      "source": "def predict(text, model, vocab):\n    \"\"\" \n    Make a prediction on a single sentence.\n\n    Parameters\n    ----------\n        text : The string to make a prediction on.\n        model : The model to use for making the prediction.\n        vocab : Dictionary for word to word ids. The key is the word and the value is the word id.\n\n    Returns\n    -------\n        pred : Prediction vector\n    \"\"\"    \n    \n    tokens = preprocess(text)\n    \n    # Filter non-vocab words\n    tokens = [token for token in tokens if token in vocab]\n    # Convert words to ids\n    tokens = [vocab[token] for token in tokens]\n        \n    # Adding a batch dimension\n    text_input = torch.from_numpy(np.asarray(torch.FloatTensor(tokens).view(-1, 1)))\n    # Get the NN output\n    hidden = model.init_hidden(1)\n    logps, _ = model.forward(text_input, hidden)\n    # Take the exponent of the NN output to get a range of 0 to 1 for each label.\n    pred = torch.exp(logps)\n    \n    return pred",
      "metadata": {},
      "execution_count": 20,
      "outputs": []
    },
    {
      "cell_type": "code",
      "source": "text = \"Google is working on self driving cars, I'm bullish on $goog\"\nmodel.eval()\nmodel.to(\"cpu\")\npredict(text, model, vocab)",
      "metadata": {},
      "execution_count": 21,
      "outputs": [
        {
          "name": "stderr",
          "output_type": "stream",
          "text": "/opt/conda/lib/python3.6/site-packages/ipykernel_launcher.py:97: UserWarning: Implicit dimension choice for log_softmax has been deprecated. Change the call to include dim=X as an argument.\n"
        },
        {
          "execution_count": 21,
          "output_type": "execute_result",
          "data": {
            "text/plain": [
              "tensor([[ 0.0002,  0.0085,  0.0045,  0.7124,  0.2744]])"
            ]
          },
          "metadata": {}
        }
      ]
    },
    {
      "cell_type": "markdown",
      "source": "### Questions: What is the prediction of the model? What is the uncertainty of the prediction?\n** TODO: Answer Question**",
      "metadata": {}
    },
    {
      "cell_type": "markdown",
      "source": "Now we have a trained model and we can make predictions. We can use this model to track the sentiments of various stocks by predicting the sentiments of twits as they are coming in. Now we have a stream of twits. For each of those twits, pull out the stocks mentioned in them and keep track of the sentiments. Remember that in the twits, ticker symbols are encoded with a dollar sign as the first character, all caps, and 2-4 letters, like $AAPL. Ideally, we'd want to track the sentiments of the stocks in our universe and use this as a signal in our larger model(s).\n\n## Answer:\nPredictions are the probabilities of each sentiment. Class is considered the one with highest probability. Probailities range from 0 to 1. Probabilities of all classes sum to 1. There will some uncertainity in all the models. Models wont be true in all the cases.\n\n## Testing\n### Load the Data ",
      "metadata": {}
    },
    {
      "cell_type": "code",
      "source": "with open(os.path.join('..', '..', 'data', 'project_6_stocktwits', 'test_twits.json'), 'r') as f:\n    test_data = json.load(f)",
      "metadata": {},
      "execution_count": 22,
      "outputs": []
    },
    {
      "cell_type": "markdown",
      "source": "### Twit Stream",
      "metadata": {}
    },
    {
      "cell_type": "code",
      "source": "def twit_stream():\n    for twit in test_data['data']:\n        yield twit\n\nnext(twit_stream())",
      "metadata": {},
      "execution_count": 23,
      "outputs": [
        {
          "execution_count": 23,
          "output_type": "execute_result",
          "data": {
            "text/plain": [
              "{'message_body': '$JWN has moved -1.69% on 10-31. Check out the movement and peers at  https://dividendbot.com?s=JWN',\n",
              " 'timestamp': '2018-11-01T00:00:05Z'}"
            ]
          },
          "metadata": {}
        }
      ]
    },
    {
      "cell_type": "markdown",
      "source": "Using the `prediction` function, let's apply it to a stream of twits.",
      "metadata": {}
    },
    {
      "cell_type": "code",
      "source": "def score_twits(stream, model, vocab, universe):\n    \"\"\" \n    Given a stream of twits and a universe of tickers, return sentiment scores for tickers in the universe.\n    \"\"\"\n    for twit in stream:\n\n        # Get the message text\n        text = twit['message_body']\n        symbols = re.findall('\\$[A-Z]{2,4}', text)\n        score = predict(text, model, vocab)\n\n        for symbol in symbols:\n            if symbol in universe:\n                yield {'symbol': symbol, 'score': score, 'timestamp': twit['timestamp']}",
      "metadata": {},
      "execution_count": 24,
      "outputs": []
    },
    {
      "cell_type": "code",
      "source": "universe = {'$BBRY', '$AAPL', '$AMZN', '$BABA', '$YHOO', '$LQMT', '$FB', '$GOOG', '$BBBY', '$JNUG', '$SBUX', '$MU'}\nscore_stream = score_twits(twit_stream(), model, vocab, universe)\n\nnext(score_stream)",
      "metadata": {},
      "execution_count": 25,
      "outputs": [
        {
          "name": "stderr",
          "output_type": "stream",
          "text": "/opt/conda/lib/python3.6/site-packages/ipykernel_launcher.py:97: UserWarning: Implicit dimension choice for log_softmax has been deprecated. Change the call to include dim=X as an argument.\n"
        },
        {
          "execution_count": 25,
          "output_type": "execute_result",
          "data": {
            "text/plain": [
              "{'symbol': '$AAPL',\n",
              " 'score': tensor([[ 0.0925,  0.1704,  0.2278,  0.3004,  0.2090]]),\n",
              " 'timestamp': '2018-11-01T00:00:18Z'}"
            ]
          },
          "metadata": {}
        }
      ]
    },
    {
      "cell_type": "markdown",
      "source": "That's it. We have successfully built a model for sentiment analysis! ",
      "metadata": {}
    }
  ]
}